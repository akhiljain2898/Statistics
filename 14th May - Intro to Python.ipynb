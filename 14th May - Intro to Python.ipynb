{
 "cells": [
  {
   "cell_type": "code",
   "execution_count": 23,
   "id": "a8a9a9ca",
   "metadata": {},
   "outputs": [],
   "source": [
    "a = 1\n",
    "b = \"Akhil\" # string is always defined within double quotes\n",
    "c = 1.1234\n",
    "d = True # True starts with a capital T - python is case sensitive\n"
   ]
  },
  {
   "cell_type": "markdown",
   "id": "b9acd5b2",
   "metadata": {},
   "source": [
    "this is not code - these are just comments\n",
    "\n",
    "__bold__ _hello_ *ssup* \n",
    "\n",
    "* point 1 \n",
    "* point 2\n",
    "\n",
    "# just seeing if this works\n"
   ]
  },
  {
   "cell_type": "markdown",
   "id": "c6e0fc5d",
   "metadata": {},
   "source": [
    "__variables__ - intro session\n",
    "Important points here \n",
    "1. python is case sensitive language\n",
    "2. all the keywords have green colour ; so in case its not green like \"false or print\" is grey --> there is some error with the code\n",
    "3. use \"esc+a\" to add a cell above & \"esc +b\" to add a cell below & shit + enter to get a new cell\n",
    "4. python accepts both single quotes & double quotes as the same"
   ]
  },
  {
   "cell_type": "code",
   "execution_count": 12,
   "id": "68d6c82d",
   "metadata": {},
   "outputs": [],
   "source": [
    "# this is how comments are inserted inside the code"
   ]
  },
  {
   "cell_type": "code",
   "execution_count": 13,
   "id": "cb2dda53",
   "metadata": {},
   "outputs": [
    {
     "data": {
      "text/plain": [
       "1"
      ]
     },
     "execution_count": 13,
     "metadata": {},
     "output_type": "execute_result"
    }
   ],
   "source": [
    "a"
   ]
  },
  {
   "cell_type": "code",
   "execution_count": 16,
   "id": "105140ad",
   "metadata": {},
   "outputs": [
    {
     "data": {
      "text/plain": [
       "'Akhil'"
      ]
     },
     "execution_count": 16,
     "metadata": {},
     "output_type": "execute_result"
    }
   ],
   "source": [
    "b"
   ]
  },
  {
   "cell_type": "code",
   "execution_count": 18,
   "id": "5aef74be",
   "metadata": {},
   "outputs": [],
   "source": [
    "# to check the datatype of the variable run the code : type(\"variable\")"
   ]
  },
  {
   "cell_type": "code",
   "execution_count": 20,
   "id": "e0c965fd",
   "metadata": {},
   "outputs": [
    {
     "data": {
      "text/plain": [
       "str"
      ]
     },
     "execution_count": 20,
     "metadata": {},
     "output_type": "execute_result"
    }
   ],
   "source": [
    "type(b) # checking the datatype for the variable b"
   ]
  },
  {
   "cell_type": "code",
   "execution_count": 21,
   "id": "4debe5b4",
   "metadata": {},
   "outputs": [
    {
     "name": "stdout",
     "output_type": "stream",
     "text": [
      "<class 'int'>\n",
      "<class 'str'>\n",
      "<class 'float'>\n",
      "<class 'bool'>\n"
     ]
    }
   ],
   "source": [
    "print(type(a)) # using the print function here to avoid the possiblity of overriding of data - always use print\n",
    "print(type(b))\n",
    "print(type(c))\n",
    "print(type(d))"
   ]
  },
  {
   "cell_type": "markdown",
   "id": "4905b641",
   "metadata": {},
   "source": [
    "data structure is a collection of data types. define multiple elements in one shot"
   ]
  },
  {
   "cell_type": "code",
   "execution_count": 30,
   "id": "104dda79",
   "metadata": {},
   "outputs": [
    {
     "name": "stdout",
     "output_type": "stream",
     "text": [
      "[20, 22, 23, 24, 25, 26, 27, 28, 29.5]\n"
     ]
    }
   ],
   "source": [
    "age_class = [20,22,23,24,25,26,27,28,29.5]\n",
    "print (age_class) #when printing a variable/data structure dont use double quotes"
   ]
  },
  {
   "cell_type": "code",
   "execution_count": null,
   "id": "908a0ef1",
   "metadata": {},
   "outputs": [],
   "source": []
  },
  {
   "cell_type": "code",
   "execution_count": 26,
   "id": "216c0479",
   "metadata": {},
   "outputs": [
    {
     "data": {
      "text/plain": [
       "list"
      ]
     },
     "execution_count": 26,
     "metadata": {},
     "output_type": "execute_result"
    }
   ],
   "source": [
    "type (age_class) #basically list is also a datatype (one with multiple values within it + it can have multiple datatypes within itself)"
   ]
  },
  {
   "cell_type": "code",
   "execution_count": 28,
   "id": "f38f4a33",
   "metadata": {},
   "outputs": [
    {
     "name": "stdout",
     "output_type": "stream",
     "text": [
      "[20, 'a', 23, 24, 25, 26, 27, 28, 29]\n"
     ]
    }
   ],
   "source": [
    "age_class = [20,\"a\",23,24,25,26,27,28,29]\n",
    "print (age_class)"
   ]
  },
  {
   "cell_type": "markdown",
   "id": "2f639396",
   "metadata": {},
   "source": [
    "Array is a datatype of numpy --> np ; so import np to use arrays\n",
    "So array is used to bring all the elements of a list to a similar datatype so we can do ops (since lists can have dissimilar datatypes)\n",
    "\n",
    "Data structures \n",
    "1. list - 1D (Moves in one direction) (often used to some specific data from a dataframe)\n",
    "2. array - ndimensional\n",
    "3. data frame - 2D - with rows and columns"
   ]
  },
  {
   "cell_type": "code",
   "execution_count": 29,
   "id": "cf187fe8",
   "metadata": {},
   "outputs": [],
   "source": [
    "import numpy as np"
   ]
  },
  {
   "cell_type": "code",
   "execution_count": 32,
   "id": "1db4ab43",
   "metadata": {},
   "outputs": [
    {
     "data": {
      "text/plain": [
       "array([20. , 22. , 23. , 24. , 25. , 26. , 27. , 28. , 29.5])"
      ]
     },
     "execution_count": 32,
     "metadata": {},
     "output_type": "execute_result"
    }
   ],
   "source": [
    "np.array(age_class) #basically asking python to display the array version of age_class : so it converted all of them to similar datatypes"
   ]
  },
  {
   "cell_type": "code",
   "execution_count": 35,
   "id": "cbcd9c4f",
   "metadata": {},
   "outputs": [
    {
     "data": {
      "text/plain": [
       "array(['1', 'b', '3'], dtype='<U11')"
      ]
     },
     "execution_count": 35,
     "metadata": {},
     "output_type": "execute_result"
    }
   ],
   "source": [
    "np.array([a,\"b\",3]) #bringing the array by manually defininng the contents of the element"
   ]
  },
  {
   "cell_type": "code",
   "execution_count": 34,
   "id": "81337204",
   "metadata": {},
   "outputs": [
    {
     "data": {
      "text/plain": [
       "numpy.ndarray"
      ]
     },
     "execution_count": 34,
     "metadata": {},
     "output_type": "execute_result"
    }
   ],
   "source": [
    "type(np.array(age_class))"
   ]
  }
 ],
 "metadata": {
  "kernelspec": {
   "display_name": "Python 3 (ipykernel)",
   "language": "python",
   "name": "python3"
  },
  "language_info": {
   "codemirror_mode": {
    "name": "ipython",
    "version": 3
   },
   "file_extension": ".py",
   "mimetype": "text/x-python",
   "name": "python",
   "nbconvert_exporter": "python",
   "pygments_lexer": "ipython3",
   "version": "3.7.1"
  }
 },
 "nbformat": 4,
 "nbformat_minor": 5
}
